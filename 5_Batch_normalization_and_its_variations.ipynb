{
  "cells": [
    {
      "cell_type": "markdown",
      "metadata": {
        "id": "view-in-github",
        "colab_type": "text"
      },
      "source": [
        "<a href=\"https://colab.research.google.com/github/YonggunJung/Fastcompus/blob/main/5_Batch_normalization_and_its_variations.ipynb\" target=\"_parent\"><img src=\"https://colab.research.google.com/assets/colab-badge.svg\" alt=\"Open In Colab\"/></a>"
      ]
    },
    {
      "cell_type": "markdown",
      "id": "8d1bdc64",
      "metadata": {
        "id": "8d1bdc64"
      },
      "source": [
        "# Batch normalization , Layer Normalization,  Instance Normalization, and Group Normalization\n",
        "\n",
        "![](./data/group_norm.png)\n",
        "\n",
        "\n",
        "\n",
        "https://wandb.ai/wandb_fc/GroupNorm/reports/Group-Normalization-in-Pytorch-With-Examples---VmlldzoxMzU0MzMy\n",
        "\n",
        "\n",
        "\n",
        "https://pytorch.org/docs/stable/generated/torch.nn.GroupNorm.html"
      ]
    },
    {
      "cell_type": "code",
      "execution_count": null,
      "id": "51e99151",
      "metadata": {
        "id": "51e99151"
      },
      "outputs": [],
      "source": [
        "import torch, torchvision\n",
        "import torch.nn as nn\n",
        "import torchvision.models as models\n",
        "import torchvision.datasets as datasets\n",
        "\n",
        "import matplotlib.pyplot as plt\n",
        "from PIL import Image"
      ]
    },
    {
      "cell_type": "markdown",
      "id": "cac5a629",
      "metadata": {
        "id": "cac5a629"
      },
      "source": [
        "\n",
        "Batch norm, layer norm, instance norm, group norm\n",
        "\n",
        "https://pytorch.org/docs/stable/nn.html\n",
        "\n",
        "\n",
        "\n",
        "\n",
        "\n",
        "https://pytorch.org/docs/stable/generated/torch.nn.LayerNorm.html#torch.nn.LayerNorm\n",
        "\n",
        "https://pytorch.org/docs/stable/generated/torch.nn.GroupNorm.html\n",
        "    "
      ]
    },
    {
      "cell_type": "code",
      "execution_count": null,
      "id": "ae8a809d",
      "metadata": {
        "id": "ae8a809d"
      },
      "outputs": [],
      "source": [
        "class BatchNorm(nn.Module):\n",
        "    def __init__(self, in_channel, out_channels):\n",
        "        super(BatchNorm, self).__init__()\n",
        "        self.bn = nn.BatchNorm2d(in_channel)\n",
        "\n",
        "    def forward(self,x):\n",
        "        out = self.bn(x)  #[N, C, HW] -> [N, C, HW]\n",
        "\n",
        "\n",
        "        return out\n",
        "\n",
        "\n",
        "## For different sequences, e.g., RNN.\n",
        "class LayerNorm(nn.Module):\n",
        "    def __init__(self, in_shape, out_channels):\n",
        "        super(LayerNorm, self).__init__()\n",
        "        self.ln = nn.LayerNorm(in_shape, eps=1e-08)\n",
        "\n",
        "    def forward(self,x):\n",
        "        out = self.ln(x)  #[N, C, HW] -> [N, C, HW]\n",
        "\n",
        "\n",
        "        return out\n",
        "\n",
        "\n",
        "## For style transfer, domain adaptation.\n",
        "class InstanceNorm(nn.Module):\n",
        "    def __init__(self, in_channel, out_channels):\n",
        "        super(InstanceNorm, self).__init__()\n",
        "        self.In = nn.InstanceNorm2d(in_channel, eps=1e-08)\n",
        "\n",
        "    def forward(self,x):\n",
        "        out = self.In(x)  #[N, C, HW] -> [N, C, HW]\n",
        "        return out\n",
        "\n",
        "\n",
        "## stable in small batch size.\n",
        "class GroupNorm(nn.Module):\n",
        "    def __init__(self, group_size, in_channel, out_channels):\n",
        "        super(GroupNorm, self).__init__()\n",
        "        self.gn = nn.GroupNorm(group_size, in_channel, eps=1e-08)  ## num_group and in_channel\n",
        "\n",
        "    def forward(self,x):\n",
        "        out = self.gn(x) #[N, C, HW] -> [N, C, HW]\n",
        "\n",
        "        return out\n"
      ]
    },
    {
      "cell_type": "code",
      "execution_count": null,
      "id": "0b15bb33",
      "metadata": {
        "id": "0b15bb33",
        "outputId": "69e8d476-e216-4630-c523-66f49bb25fd7"
      },
      "outputs": [
        {
          "name": "stdout",
          "output_type": "stream",
          "text": [
            "torch.Size([8, 64, 120, 120])\n"
          ]
        }
      ],
      "source": [
        "in_channel = 64\n",
        "feature = torch.randn(8, in_channel, 120, 120)  ## temp tensor [B, C, H, W]\n",
        "\n",
        "\n",
        "BN = BatchNorm(in_channel, out_channels=64)\n",
        "\n",
        "out_feat = BN(feature)\n",
        "\n",
        "print(out_feat.shape)"
      ]
    },
    {
      "cell_type": "code",
      "execution_count": null,
      "id": "017bb7f9",
      "metadata": {
        "id": "017bb7f9",
        "outputId": "d4963211-c3a3-40cf-b2b1-4efe0391153b"
      },
      "outputs": [
        {
          "name": "stdout",
          "output_type": "stream",
          "text": [
            "torch.Size([8, 64, 120, 120])\n"
          ]
        }
      ],
      "source": [
        "LN = LayerNorm(in_shape=list(feature.shape[1:]), out_channels=64)\n",
        "\n",
        "out_feat = LN(feature)\n",
        "\n",
        "print(out_feat.shape)"
      ]
    },
    {
      "cell_type": "code",
      "execution_count": null,
      "id": "4b91e4bb",
      "metadata": {
        "id": "4b91e4bb",
        "outputId": "0c45aa97-83e5-4f7e-c396-c0bcf4ca6ea6"
      },
      "outputs": [
        {
          "name": "stdout",
          "output_type": "stream",
          "text": [
            "torch.Size([8, 64, 120, 120])\n"
          ]
        }
      ],
      "source": [
        "IN=InstanceNorm(in_channel, out_channels=64)\n",
        "\n",
        "out_feat = IN(feature)\n",
        "\n",
        "print(out_feat.shape)"
      ]
    },
    {
      "cell_type": "code",
      "execution_count": null,
      "id": "e76e8af7",
      "metadata": {
        "id": "e76e8af7",
        "outputId": "aa197a5a-ee2a-4047-d431-e34347c8a8a5"
      },
      "outputs": [
        {
          "name": "stdout",
          "output_type": "stream",
          "text": [
            "torch.Size([8, 64, 120, 120])\n",
            "torch.Size([8, 64, 120, 120])\n"
          ]
        }
      ],
      "source": [
        "GN=GroupNorm(group_size=2, in_channel=in_channel, out_channels=64)\n",
        "\n",
        "out_feat = GN(feature)\n",
        "\n",
        "print(out_feat.shape)  ## 32 / 32\n",
        "\n",
        "GN=GroupNorm(group_size=4, in_channel=in_channel, out_channels=64)\n",
        "\n",
        "out_feat = GN(feature)\n",
        "\n",
        "print(out_feat.shape)  ## 16 / 16 / 16 / 16"
      ]
    },
    {
      "cell_type": "code",
      "execution_count": null,
      "id": "d5a31887",
      "metadata": {
        "id": "d5a31887"
      },
      "outputs": [],
      "source": []
    },
    {
      "cell_type": "code",
      "execution_count": null,
      "id": "7c66c61c",
      "metadata": {
        "id": "7c66c61c"
      },
      "outputs": [],
      "source": []
    }
  ],
  "metadata": {
    "kernelspec": {
      "display_name": "isp2",
      "language": "python",
      "name": "isp2"
    },
    "language_info": {
      "codemirror_mode": {
        "name": "ipython",
        "version": 3
      },
      "file_extension": ".py",
      "mimetype": "text/x-python",
      "name": "python",
      "nbconvert_exporter": "python",
      "pygments_lexer": "ipython3",
      "version": "3.9.7"
    },
    "colab": {
      "provenance": [],
      "include_colab_link": true
    }
  },
  "nbformat": 4,
  "nbformat_minor": 5
}