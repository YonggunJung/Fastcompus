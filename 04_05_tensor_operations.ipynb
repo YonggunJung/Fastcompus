{
  "cells": [
    {
      "cell_type": "markdown",
      "metadata": {
        "id": "view-in-github",
        "colab_type": "text"
      },
      "source": [
        "<a href=\"https://colab.research.google.com/github/YonggunJung/Fastcompus/blob/main/04_05_tensor_operations.ipynb\" target=\"_parent\"><img src=\"https://colab.research.google.com/assets/colab-badge.svg\" alt=\"Open In Colab\"/></a>"
      ]
    },
    {
      "cell_type": "markdown",
      "metadata": {
        "id": "yW9c7eZiG6-n"
      },
      "source": [
        "# PyTorch Tensor Operations"
      ]
    },
    {
      "cell_type": "code",
      "execution_count": null,
      "metadata": {
        "id": "6iG1hEJqG6-r"
      },
      "outputs": [],
      "source": [
        "import torch"
      ]
    },
    {
      "cell_type": "markdown",
      "metadata": {
        "id": "e2TsDf-AG6-t"
      },
      "source": [
        "## Arithmetic Element-wise Operations"
      ]
    },
    {
      "cell_type": "code",
      "execution_count": null,
      "metadata": {
        "id": "yjReYpbuG6-t"
      },
      "outputs": [],
      "source": [
        "a = torch.FloatTensor([[1, 2],\n",
        "                       [3, 4]])\n",
        "b = torch.FloatTensor([[2, 2],\n",
        "                       [3, 3]])"
      ]
    },
    {
      "cell_type": "code",
      "execution_count": null,
      "metadata": {
        "id": "rY46bii7G6-t",
        "outputId": "43658fd5-1179-4fdb-857f-a8beed05ca22"
      },
      "outputs": [
        {
          "data": {
            "text/plain": [
              "tensor([[3., 4.],\n",
              "        [6., 7.]])"
            ]
          },
          "execution_count": 3,
          "metadata": {},
          "output_type": "execute_result"
        }
      ],
      "source": [
        "a + b"
      ]
    },
    {
      "cell_type": "code",
      "execution_count": null,
      "metadata": {
        "id": "dXrMwzQNG6-u",
        "outputId": "fe22ff2a-7dc7-4850-fcb7-3bf87e0d13cd"
      },
      "outputs": [
        {
          "data": {
            "text/plain": [
              "tensor([[-1.,  0.],\n",
              "        [ 0.,  1.]])"
            ]
          },
          "execution_count": 4,
          "metadata": {},
          "output_type": "execute_result"
        }
      ],
      "source": [
        "a - b"
      ]
    },
    {
      "cell_type": "code",
      "execution_count": null,
      "metadata": {
        "id": "e74g4iXDG6-v",
        "outputId": "6a119a53-5201-4485-b78c-23cb40e38a08"
      },
      "outputs": [
        {
          "data": {
            "text/plain": [
              "tensor([[ 2.,  4.],\n",
              "        [ 9., 12.]])"
            ]
          },
          "execution_count": 5,
          "metadata": {},
          "output_type": "execute_result"
        }
      ],
      "source": [
        "a * b"
      ]
    },
    {
      "cell_type": "code",
      "execution_count": null,
      "metadata": {
        "id": "y_FHJdBRG6-w",
        "outputId": "105d1adf-aeec-479d-d737-caba3647bee6"
      },
      "outputs": [
        {
          "data": {
            "text/plain": [
              "tensor([[0.5000, 1.0000],\n",
              "        [1.0000, 1.3333]])"
            ]
          },
          "execution_count": 6,
          "metadata": {},
          "output_type": "execute_result"
        }
      ],
      "source": [
        "a / b"
      ]
    },
    {
      "cell_type": "code",
      "execution_count": null,
      "metadata": {
        "scrolled": true,
        "id": "WnVRozApG6-w",
        "outputId": "06838bd6-6e62-4736-caa5-fccdfdfc3848"
      },
      "outputs": [
        {
          "data": {
            "text/plain": [
              "tensor([[False,  True],\n",
              "        [ True, False]])"
            ]
          },
          "execution_count": 7,
          "metadata": {},
          "output_type": "execute_result"
        }
      ],
      "source": [
        "a == b"
      ]
    },
    {
      "cell_type": "code",
      "execution_count": null,
      "metadata": {
        "id": "iaFIfdMKG6-w",
        "outputId": "c21f4bde-8b63-4795-be15-b5d486f9342b"
      },
      "outputs": [
        {
          "data": {
            "text/plain": [
              "tensor([[ True, False],\n",
              "        [False,  True]])"
            ]
          },
          "execution_count": 8,
          "metadata": {},
          "output_type": "execute_result"
        }
      ],
      "source": [
        "a != b"
      ]
    },
    {
      "cell_type": "code",
      "execution_count": null,
      "metadata": {
        "id": "_FHdKzRFG6-x",
        "outputId": "b47531de-76d8-47da-bf3d-2f223beae526"
      },
      "outputs": [
        {
          "data": {
            "text/plain": [
              "tensor([[ 1.,  4.],\n",
              "        [27., 64.]])"
            ]
          },
          "execution_count": 9,
          "metadata": {},
          "output_type": "execute_result"
        }
      ],
      "source": [
        "a ** b"
      ]
    },
    {
      "cell_type": "markdown",
      "metadata": {
        "id": "3cdV0AG_G6-x"
      },
      "source": [
        "## Inplace Operations"
      ]
    },
    {
      "cell_type": "code",
      "execution_count": null,
      "metadata": {
        "id": "pCOU-YPzG6-x",
        "outputId": "229b7121-64ed-41c7-fa2f-bb47fbc32642"
      },
      "outputs": [
        {
          "name": "stdout",
          "output_type": "stream",
          "text": [
            "tensor([[1., 2.],\n",
            "        [3., 4.]])\n",
            "tensor([[ 2.,  4.],\n",
            "        [ 9., 12.]])\n",
            "tensor([[1., 2.],\n",
            "        [3., 4.]])\n",
            "tensor([[ 2.,  4.],\n",
            "        [ 9., 12.]])\n",
            "tensor([[ 2.,  4.],\n",
            "        [ 9., 12.]])\n"
          ]
        }
      ],
      "source": [
        "print(a)\n",
        "print(a.mul(b))\n",
        "print(a)\n",
        "print(a.mul_(b))\n",
        "print(a)"
      ]
    },
    {
      "cell_type": "markdown",
      "metadata": {
        "id": "AQZmnFDrG6-y"
      },
      "source": [
        "## Sum, Mean (Dimension Reducing Operations)"
      ]
    },
    {
      "cell_type": "code",
      "execution_count": null,
      "metadata": {
        "id": "MMEgyug-G6-y"
      },
      "outputs": [],
      "source": [
        "x = torch.FloatTensor([[1, 2],\n",
        "                       [3, 4]])"
      ]
    },
    {
      "cell_type": "code",
      "execution_count": null,
      "metadata": {
        "id": "bjU8Sd0uG6-y",
        "outputId": "8ee2f2a5-adf7-44d8-f890-4f03aba41e41"
      },
      "outputs": [
        {
          "name": "stdout",
          "output_type": "stream",
          "text": [
            "tensor(10.)\n",
            "tensor(2.5000)\n"
          ]
        }
      ],
      "source": [
        "print(x.sum())\n",
        "print(x.mean())"
      ]
    },
    {
      "cell_type": "code",
      "execution_count": null,
      "metadata": {
        "scrolled": false,
        "id": "eA1QowbSG6-y",
        "outputId": "aa414a44-df6d-4077-a545-e0f2605300ef"
      },
      "outputs": [
        {
          "name": "stdout",
          "output_type": "stream",
          "text": [
            "tensor([4., 6.])\n",
            "tensor([3., 7.])\n"
          ]
        }
      ],
      "source": [
        "print(x.sum(dim=0))\n",
        "print(x.sum(dim=-1))"
      ]
    },
    {
      "cell_type": "markdown",
      "metadata": {
        "id": "L8zdUC9jG6-z"
      },
      "source": [
        "## Broadcast in Operations\n",
        "\n",
        "What we did before,"
      ]
    },
    {
      "cell_type": "code",
      "execution_count": null,
      "metadata": {
        "id": "EsegzStJG6-z",
        "outputId": "9731a263-9b44-4f64-ea74-f742216ed6e6"
      },
      "outputs": [
        {
          "name": "stdout",
          "output_type": "stream",
          "text": [
            "torch.Size([1, 2])\n",
            "torch.Size([1, 2])\n"
          ]
        }
      ],
      "source": [
        "x = torch.FloatTensor([[1, 2]])\n",
        "y = torch.FloatTensor([[4, 8]])\n",
        "\n",
        "print(x.size())\n",
        "print(y.size())"
      ]
    },
    {
      "cell_type": "code",
      "execution_count": null,
      "metadata": {
        "id": "MurIsoJnG6-z",
        "outputId": "34fcf642-fd9a-4f35-adbe-b898464025e3"
      },
      "outputs": [
        {
          "name": "stdout",
          "output_type": "stream",
          "text": [
            "tensor([[ 5., 10.]])\n",
            "torch.Size([1, 2])\n"
          ]
        }
      ],
      "source": [
        "z = x + y\n",
        "print(z)\n",
        "print(z.size())"
      ]
    },
    {
      "cell_type": "markdown",
      "metadata": {
        "id": "UhDtRLagG6-z"
      },
      "source": [
        "Broadcast feature provides operations between different shape of tensors.\n",
        "\n",
        "### Tensor + Scalar"
      ]
    },
    {
      "cell_type": "code",
      "execution_count": null,
      "metadata": {
        "id": "V8AINeMsG6-z",
        "outputId": "ec3e7621-f904-464c-f68a-b150707077c4"
      },
      "outputs": [
        {
          "name": "stdout",
          "output_type": "stream",
          "text": [
            "torch.Size([2, 2])\n"
          ]
        }
      ],
      "source": [
        "x = torch.FloatTensor([[1, 2],\n",
        "                       [3, 4]])\n",
        "y = 1\n",
        "\n",
        "print(x.size())"
      ]
    },
    {
      "cell_type": "code",
      "execution_count": null,
      "metadata": {
        "id": "Xq86IjU4G6-z",
        "outputId": "84da2dd7-ca76-44ef-b27e-2700e8819dc2"
      },
      "outputs": [
        {
          "name": "stdout",
          "output_type": "stream",
          "text": [
            "tensor([[2., 3.],\n",
            "        [4., 5.]])\n",
            "torch.Size([2, 2])\n"
          ]
        }
      ],
      "source": [
        "z = x + y\n",
        "print(z)\n",
        "print(z.size())"
      ]
    },
    {
      "cell_type": "markdown",
      "metadata": {
        "id": "8A4PxlbkG6-0"
      },
      "source": [
        "### Tensor + Vector"
      ]
    },
    {
      "cell_type": "code",
      "execution_count": null,
      "metadata": {
        "id": "bFYJU5DvG6-0",
        "outputId": "04afb1b6-824b-4930-cfa5-c577e81711f1"
      },
      "outputs": [
        {
          "name": "stdout",
          "output_type": "stream",
          "text": [
            "torch.Size([2, 2])\n",
            "torch.Size([2])\n"
          ]
        }
      ],
      "source": [
        "x = torch.FloatTensor([[1, 2],\n",
        "                       [4, 8]])\n",
        "y = torch.FloatTensor([3,\n",
        "                       5])\n",
        "\n",
        "print(x.size())\n",
        "print(y.size())"
      ]
    },
    {
      "cell_type": "code",
      "execution_count": null,
      "metadata": {
        "id": "byNT213CG6-0",
        "outputId": "f9a7fd89-c7b8-48a2-ab5a-93a0f1a8df7f"
      },
      "outputs": [
        {
          "name": "stdout",
          "output_type": "stream",
          "text": [
            "tensor([[ 4.,  7.],\n",
            "        [ 7., 13.]])\n",
            "torch.Size([2, 2])\n"
          ]
        }
      ],
      "source": [
        "z = x + y\n",
        "print(z)\n",
        "print(z.size())"
      ]
    },
    {
      "cell_type": "code",
      "execution_count": null,
      "metadata": {
        "id": "K16OayuxG6-0",
        "outputId": "baa05586-67f0-4a66-c5fb-9ddf9ba29020"
      },
      "outputs": [
        {
          "name": "stdout",
          "output_type": "stream",
          "text": [
            "torch.Size([1, 1, 2])\n",
            "torch.Size([2])\n"
          ]
        }
      ],
      "source": [
        "x = torch.FloatTensor([[[1, 2]]])\n",
        "y = torch.FloatTensor([3,\n",
        "                       5])\n",
        "\n",
        "print(x.size())\n",
        "print(y.size())"
      ]
    },
    {
      "cell_type": "code",
      "execution_count": null,
      "metadata": {
        "id": "mkpZHC0oG6-1",
        "outputId": "edc8e544-e252-42b9-98a3-76fef2e27834"
      },
      "outputs": [
        {
          "name": "stdout",
          "output_type": "stream",
          "text": [
            "tensor([[[4., 7.]]])\n",
            "torch.Size([1, 1, 2])\n"
          ]
        }
      ],
      "source": [
        "z = x + y\n",
        "print(z)\n",
        "print(z.size())"
      ]
    },
    {
      "cell_type": "markdown",
      "metadata": {
        "id": "ouUyhUPhG6-1"
      },
      "source": [
        "### Tensor + Tensor"
      ]
    },
    {
      "cell_type": "code",
      "execution_count": null,
      "metadata": {
        "id": "vA1nO-OZG6-1",
        "outputId": "2201bded-c9a6-42f3-e139-f4ca5fb24750"
      },
      "outputs": [
        {
          "name": "stdout",
          "output_type": "stream",
          "text": [
            "torch.Size([1, 2])\n",
            "torch.Size([2, 1])\n"
          ]
        }
      ],
      "source": [
        "x = torch.FloatTensor([[1, 2]])\n",
        "y = torch.FloatTensor([[3],\n",
        "                       [5]])\n",
        "\n",
        "print(x.size())\n",
        "print(y.size())"
      ]
    },
    {
      "cell_type": "code",
      "execution_count": null,
      "metadata": {
        "id": "gIDpD6kjG6-1",
        "outputId": "e93d47ad-873f-49e8-f210-81dc4e7222dd"
      },
      "outputs": [
        {
          "name": "stdout",
          "output_type": "stream",
          "text": [
            "tensor([[4., 5.],\n",
            "        [6., 7.]])\n",
            "torch.Size([2, 2])\n"
          ]
        }
      ],
      "source": [
        "z = x + y\n",
        "print(z)\n",
        "print(z.size())"
      ]
    },
    {
      "cell_type": "markdown",
      "metadata": {
        "id": "eszsgkSsG6-1"
      },
      "source": [
        "Note that you need to be careful before using broadcast feature.\n",
        "\n",
        "### Failure Case"
      ]
    },
    {
      "cell_type": "code",
      "execution_count": null,
      "metadata": {
        "id": "d7YzMvfXG6-1",
        "outputId": "52ba71e9-3b19-4976-fe83-06e1e51fd7c4"
      },
      "outputs": [
        {
          "name": "stdout",
          "output_type": "stream",
          "text": [
            "torch.Size([1, 2, 2])\n",
            "torch.Size([3, 3])\n"
          ]
        },
        {
          "ename": "RuntimeError",
          "evalue": "The size of tensor a (2) must match the size of tensor b (3) at non-singleton dimension 2",
          "output_type": "error",
          "traceback": [
            "\u001b[0;31m---------------------------------------------------------------------------\u001b[0m",
            "\u001b[0;31mRuntimeError\u001b[0m                              Traceback (most recent call last)",
            "\u001b[0;32m<ipython-input-24-d79203316342>\u001b[0m in \u001b[0;36m<module>\u001b[0;34m\u001b[0m\n\u001b[1;32m      8\u001b[0m \u001b[0mprint\u001b[0m\u001b[0;34m(\u001b[0m\u001b[0my\u001b[0m\u001b[0;34m.\u001b[0m\u001b[0msize\u001b[0m\u001b[0;34m(\u001b[0m\u001b[0;34m)\u001b[0m\u001b[0;34m)\u001b[0m\u001b[0;34m\u001b[0m\u001b[0;34m\u001b[0m\u001b[0m\n\u001b[1;32m      9\u001b[0m \u001b[0;34m\u001b[0m\u001b[0m\n\u001b[0;32m---> 10\u001b[0;31m \u001b[0mz\u001b[0m \u001b[0;34m=\u001b[0m \u001b[0mx\u001b[0m \u001b[0;34m+\u001b[0m \u001b[0my\u001b[0m\u001b[0;34m\u001b[0m\u001b[0;34m\u001b[0m\u001b[0m\n\u001b[0m",
            "\u001b[0;31mRuntimeError\u001b[0m: The size of tensor a (2) must match the size of tensor b (3) at non-singleton dimension 2"
          ]
        }
      ],
      "source": [
        "x = torch.FloatTensor([[[1, 2],\n",
        "                        [4, 8]]])\n",
        "y = torch.FloatTensor([[1, 2, 3],\n",
        "                       [4, 5, 6],\n",
        "                       [7, 8, 9]])\n",
        "\n",
        "print(x.size())\n",
        "print(y.size())\n",
        "\n",
        "z = x + y"
      ]
    },
    {
      "cell_type": "code",
      "execution_count": null,
      "metadata": {
        "id": "kcUTOZ-LG6-2"
      },
      "outputs": [],
      "source": []
    }
  ],
  "metadata": {
    "kernelspec": {
      "display_name": "Python 3",
      "language": "python",
      "name": "python3"
    },
    "language_info": {
      "codemirror_mode": {
        "name": "ipython",
        "version": 3
      },
      "file_extension": ".py",
      "mimetype": "text/x-python",
      "name": "python",
      "nbconvert_exporter": "python",
      "pygments_lexer": "ipython3",
      "version": "3.7.6"
    },
    "colab": {
      "provenance": [],
      "include_colab_link": true
    }
  },
  "nbformat": 4,
  "nbformat_minor": 0
}