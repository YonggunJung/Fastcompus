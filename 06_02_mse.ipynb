{
  "cells": [
    {
      "cell_type": "markdown",
      "metadata": {
        "id": "view-in-github",
        "colab_type": "text"
      },
      "source": [
        "<a href=\"https://colab.research.google.com/github/YonggunJung/Fastcompus/blob/main/06_02_mse.ipynb\" target=\"_parent\"><img src=\"https://colab.research.google.com/assets/colab-badge.svg\" alt=\"Open In Colab\"/></a>"
      ]
    },
    {
      "cell_type": "markdown",
      "metadata": {
        "id": "1o9ExDlaq2x6"
      },
      "source": [
        "# Mean Square Error (MSE) Loss"
      ]
    },
    {
      "cell_type": "code",
      "execution_count": null,
      "metadata": {
        "id": "XVoVp6jdq2x_"
      },
      "outputs": [],
      "source": [
        "import torch"
      ]
    },
    {
      "cell_type": "markdown",
      "metadata": {
        "id": "gHbiw54zq2yA"
      },
      "source": [
        "$$\n",
        "\\text{MSE}(\\hat{x}_{1:N}, x_{1:N})=\\frac{1}{N\\times{n}}\\sum_{i=1}^{N}{||x_i-\\hat{x}_i||_2^2}\n",
        "$$"
      ]
    },
    {
      "cell_type": "code",
      "execution_count": null,
      "metadata": {
        "id": "qnKW1N5Qq2yB"
      },
      "outputs": [],
      "source": [
        "def mse(x_hat, x):\n",
        "    # |x_hat| = (batch_size, dim)\n",
        "    # |x| = (batch_size, dim)\n",
        "    y = ((x - x_hat)**2).mean()\n",
        "\n",
        "    return y"
      ]
    },
    {
      "cell_type": "code",
      "execution_count": null,
      "metadata": {
        "id": "SFgAa6J-q2yB",
        "outputId": "ebaa644a-54f8-40e9-a6db-c0d48aac81a8"
      },
      "outputs": [
        {
          "name": "stdout",
          "output_type": "stream",
          "text": [
            "torch.Size([2, 2]) torch.Size([2, 2])\n"
          ]
        }
      ],
      "source": [
        "x = torch.FloatTensor([[1, 1],\n",
        "                       [2, 2]])\n",
        "x_hat = torch.FloatTensor([[0, 0],\n",
        "                           [0, 0]])\n",
        "\n",
        "print(x.size(), x_hat.size())"
      ]
    },
    {
      "cell_type": "code",
      "execution_count": null,
      "metadata": {
        "id": "cMd49-V8q2yC",
        "outputId": "c4e15ffa-39f6-401a-ee37-013fb37d36a4"
      },
      "outputs": [
        {
          "data": {
            "text/plain": [
              "tensor(2.5000)"
            ]
          },
          "execution_count": 4,
          "metadata": {},
          "output_type": "execute_result"
        }
      ],
      "source": [
        "mse(x_hat, x)"
      ]
    },
    {
      "cell_type": "markdown",
      "metadata": {
        "id": "YzEDd01zq2yC"
      },
      "source": [
        "## Predefined MSE in PyTorch"
      ]
    },
    {
      "cell_type": "code",
      "execution_count": null,
      "metadata": {
        "id": "dJ9pzcBeq2yD"
      },
      "outputs": [],
      "source": [
        "import torch.nn.functional as F"
      ]
    },
    {
      "cell_type": "code",
      "execution_count": null,
      "metadata": {
        "id": "BvMi_LuSq2yD",
        "outputId": "c16fcd0d-2969-49b5-bc48-2c638744c3ed"
      },
      "outputs": [
        {
          "data": {
            "text/plain": [
              "tensor(2.5000)"
            ]
          },
          "execution_count": 6,
          "metadata": {},
          "output_type": "execute_result"
        }
      ],
      "source": [
        "F.mse_loss(x_hat, x)"
      ]
    },
    {
      "cell_type": "code",
      "execution_count": null,
      "metadata": {
        "id": "fT8t7H-Fq2yE",
        "outputId": "43cfba0c-0e44-47bb-a47e-5918a9d47c25"
      },
      "outputs": [
        {
          "data": {
            "text/plain": [
              "tensor(10.)"
            ]
          },
          "execution_count": 7,
          "metadata": {},
          "output_type": "execute_result"
        }
      ],
      "source": [
        "F.mse_loss(x_hat, x, reduction='sum')"
      ]
    },
    {
      "cell_type": "code",
      "execution_count": null,
      "metadata": {
        "id": "_cPT4Tr9q2yE",
        "outputId": "5e7e19c6-4ea3-46e6-c731-b2fa32f21832"
      },
      "outputs": [
        {
          "data": {
            "text/plain": [
              "tensor([[1., 1.],\n",
              "        [4., 4.]])"
            ]
          },
          "execution_count": 8,
          "metadata": {},
          "output_type": "execute_result"
        }
      ],
      "source": [
        "F.mse_loss(x_hat, x, reduction='none')"
      ]
    },
    {
      "cell_type": "code",
      "execution_count": null,
      "metadata": {
        "id": "pINUyn05q2yE"
      },
      "outputs": [],
      "source": [
        "import torch.nn as nn"
      ]
    },
    {
      "cell_type": "code",
      "execution_count": null,
      "metadata": {
        "id": "xCHAHn7Mq2yF",
        "outputId": "28cd83b6-8c69-4d3a-b5f4-564fb939eae9"
      },
      "outputs": [
        {
          "data": {
            "text/plain": [
              "tensor(2.5000)"
            ]
          },
          "execution_count": 10,
          "metadata": {},
          "output_type": "execute_result"
        }
      ],
      "source": [
        "mse_loss = nn.MSELoss()\n",
        "\n",
        "mse_loss(x_hat, x)"
      ]
    },
    {
      "cell_type": "code",
      "execution_count": null,
      "metadata": {
        "id": "TsknV_k6q2yF"
      },
      "outputs": [],
      "source": []
    }
  ],
  "metadata": {
    "kernelspec": {
      "display_name": "Python 3",
      "language": "python",
      "name": "python3"
    },
    "language_info": {
      "codemirror_mode": {
        "name": "ipython",
        "version": 3
      },
      "file_extension": ".py",
      "mimetype": "text/x-python",
      "name": "python",
      "nbconvert_exporter": "python",
      "pygments_lexer": "ipython3",
      "version": "3.7.6"
    },
    "colab": {
      "provenance": [],
      "include_colab_link": true
    }
  },
  "nbformat": 4,
  "nbformat_minor": 0
}