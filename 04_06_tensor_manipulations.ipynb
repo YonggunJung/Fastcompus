{
  "cells": [
    {
      "cell_type": "markdown",
      "metadata": {
        "id": "view-in-github",
        "colab_type": "text"
      },
      "source": [
        "<a href=\"https://colab.research.google.com/github/YonggunJung/Fastcompus/blob/main/04_06_tensor_manipulations.ipynb\" target=\"_parent\"><img src=\"https://colab.research.google.com/assets/colab-badge.svg\" alt=\"Open In Colab\"/></a>"
      ]
    },
    {
      "cell_type": "markdown",
      "metadata": {
        "id": "jP8EaI4OJWfG"
      },
      "source": [
        "# PyTorch Tensor Manipulations"
      ]
    },
    {
      "cell_type": "code",
      "execution_count": null,
      "metadata": {
        "id": "3rciGU1FJWfI"
      },
      "outputs": [],
      "source": [
        "import torch"
      ]
    },
    {
      "cell_type": "markdown",
      "metadata": {
        "id": "6YVLziQtJWfJ"
      },
      "source": [
        "## Tensor Shaping\n",
        "\n",
        "### reshape: Change Tensor Shape"
      ]
    },
    {
      "cell_type": "code",
      "execution_count": null,
      "metadata": {
        "id": "Y928FZF_JWfJ",
        "outputId": "b3c3b9ef-3a65-4ed2-9118-5bf8b72f8bf5"
      },
      "outputs": [
        {
          "name": "stdout",
          "output_type": "stream",
          "text": [
            "torch.Size([3, 2, 2])\n"
          ]
        }
      ],
      "source": [
        "x = torch.FloatTensor([[[1, 2],\n",
        "                        [3, 4]],\n",
        "                       [[5, 6],\n",
        "                        [7, 8]],\n",
        "                       [[9, 10],\n",
        "                        [11, 12]]])\n",
        "\n",
        "print(x.size())"
      ]
    },
    {
      "cell_type": "code",
      "execution_count": null,
      "metadata": {
        "id": "a0_Nctt2JWfK",
        "outputId": "02b495ab-3e03-491b-c942-9f95ed8c0093"
      },
      "outputs": [
        {
          "name": "stdout",
          "output_type": "stream",
          "text": [
            "tensor([ 1.,  2.,  3.,  4.,  5.,  6.,  7.,  8.,  9., 10., 11., 12.])\n",
            "tensor([ 1.,  2.,  3.,  4.,  5.,  6.,  7.,  8.,  9., 10., 11., 12.])\n"
          ]
        }
      ],
      "source": [
        "print(x.reshape(12)) # 12 = 3 * 2 * 2\n",
        "print(x.reshape(-1)) # -1은 일단 알아서 해줘 라는 뜻"
      ]
    },
    {
      "cell_type": "code",
      "execution_count": null,
      "metadata": {
        "id": "qYdG815GJWfK",
        "outputId": "543ecfb6-e704-4f40-8df2-fe1489ab22b3"
      },
      "outputs": [
        {
          "name": "stdout",
          "output_type": "stream",
          "text": [
            "tensor([[ 1.,  2.,  3.,  4.],\n",
            "        [ 5.,  6.,  7.,  8.],\n",
            "        [ 9., 10., 11., 12.]])\n",
            "tensor([[ 1.,  2.,  3.,  4.],\n",
            "        [ 5.,  6.,  7.,  8.],\n",
            "        [ 9., 10., 11., 12.]])\n"
          ]
        }
      ],
      "source": [
        "print(x.reshape(3, 4)) # 3 * 4 = 3 * 2 * 2\n",
        "print(x.reshape(3, -1)) # 3행을 만들건데 열은 니가 알아서해 넣어줘(딱 들어 맞지 않을 경우는 에러남)"
      ]
    },
    {
      "cell_type": "code",
      "execution_count": null,
      "metadata": {
        "id": "2TfrJO88JWfK",
        "outputId": "65f91b62-6b4a-411b-cbf2-b95097824e4d"
      },
      "outputs": [
        {
          "name": "stdout",
          "output_type": "stream",
          "text": [
            "tensor([[[ 1.,  2.,  3.,  4.]],\n",
            "\n",
            "        [[ 5.,  6.,  7.,  8.]],\n",
            "\n",
            "        [[ 9., 10., 11., 12.]]])\n",
            "tensor([[[ 1.,  2.,  3.,  4.]],\n",
            "\n",
            "        [[ 5.,  6.,  7.,  8.]],\n",
            "\n",
            "        [[ 9., 10., 11., 12.]]])\n"
          ]
        }
      ],
      "source": [
        "print(x.reshape(3, 1, 4))\n",
        "print(x.reshape(-1, 1, 4))"
      ]
    },
    {
      "cell_type": "code",
      "execution_count": null,
      "metadata": {
        "scrolled": true,
        "id": "egWLyeiMJWfL",
        "outputId": "c711d8ec-4199-4e2c-c2d4-b96baffb36b1"
      },
      "outputs": [
        {
          "name": "stdout",
          "output_type": "stream",
          "text": [
            "tensor([[[[ 1.],\n",
            "          [ 2.]],\n",
            "\n",
            "         [[ 3.],\n",
            "          [ 4.]]],\n",
            "\n",
            "\n",
            "        [[[ 5.],\n",
            "          [ 6.]],\n",
            "\n",
            "         [[ 7.],\n",
            "          [ 8.]]],\n",
            "\n",
            "\n",
            "        [[[ 9.],\n",
            "          [10.]],\n",
            "\n",
            "         [[11.],\n",
            "          [12.]]]])\n"
          ]
        }
      ],
      "source": [
        "print(x.reshape(3, 2, 2, 1))"
      ]
    },
    {
      "cell_type": "markdown",
      "metadata": {
        "id": "V9-3HA9OJWfL"
      },
      "source": [
        "You can use 'view()' instead of 'reshape()' in some cases.\n",
        "\n",
        "- https://pytorch.org/docs/stable/tensor_view.html\n",
        "- https://pytorch.org/docs/stable/tensors.html?highlight=view#torch.Tensor.view"
      ]
    },
    {
      "cell_type": "markdown",
      "metadata": {
        "id": "4ufbBf1yJWfL"
      },
      "source": [
        "### squeeze: Remove dimension which has only one element."
      ]
    },
    {
      "cell_type": "code",
      "execution_count": null,
      "metadata": {
        "id": "gQEJKwcgJWfL",
        "outputId": "8b8be087-193c-498e-8351-8c00a01d5e05"
      },
      "outputs": [
        {
          "name": "stdout",
          "output_type": "stream",
          "text": [
            "torch.Size([1, 2, 2])\n"
          ]
        }
      ],
      "source": [
        "# squeeze : 쥐어 짜다\n",
        "# 어떤 차원에 1이 있으면 짜버린다\n",
        "# 차원 축소 하는 것\n",
        "x = torch.FloatTensor([[[1, 2],\n",
        "                        [3, 4]]])\n",
        "print(x.size())"
      ]
    },
    {
      "cell_type": "markdown",
      "metadata": {
        "id": "rixqW2UDJWfL"
      },
      "source": [
        "Remove any dimension which has only one element."
      ]
    },
    {
      "cell_type": "code",
      "execution_count": null,
      "metadata": {
        "id": "PLiQ0m8fJWfL",
        "outputId": "cf73c205-a764-418a-e81f-dc99c3430548"
      },
      "outputs": [
        {
          "name": "stdout",
          "output_type": "stream",
          "text": [
            "tensor([[1., 2.],\n",
            "        [3., 4.]])\n",
            "torch.Size([2, 2])\n"
          ]
        }
      ],
      "source": [
        "# 만약 1이 없으면 그대로 출력 된다. 아무일도 일어나지 않는다\n",
        "print(x.squeeze())\n",
        "print(x.squeeze().size())\n",
        "# torch.Size([1, 2, 2]) 이게 rch.Size([2, 2]) 이렇게 됐음"
      ]
    },
    {
      "cell_type": "markdown",
      "metadata": {
        "id": "zNNxTfKzJWfM"
      },
      "source": [
        "Remove certain dimension, if it has only one element.\n",
        "If it is not, there would be no change."
      ]
    },
    {
      "cell_type": "code",
      "execution_count": null,
      "metadata": {
        "scrolled": true,
        "id": "zkI5Ppm4JWfM",
        "outputId": "6461bd32-464d-4c58-92a8-2b9f59a750c9"
      },
      "outputs": [
        {
          "name": "stdout",
          "output_type": "stream",
          "text": [
            "torch.Size([2, 2])\n",
            "torch.Size([1, 2, 2])\n"
          ]
        }
      ],
      "source": [
        "# 특정 차원 스퀴즈 가능\n",
        "print(x.squeeze(0).size())  # 여기는 0번째에 1이 있어서 스퀴즈함\n",
        "print(x.squeeze(1).size())  # 여기는 1번째에 1이 없어서 스퀴즈 못함"
      ]
    },
    {
      "cell_type": "markdown",
      "metadata": {
        "id": "E_Oql6m0JWfM"
      },
      "source": [
        "### unsqueeze: Insert dimension at certain index."
      ]
    },
    {
      "cell_type": "code",
      "execution_count": null,
      "metadata": {
        "id": "70Okgx_kJWfM",
        "outputId": "80619219-8522-4da5-9d23-a95acff1c9f6"
      },
      "outputs": [
        {
          "name": "stdout",
          "output_type": "stream",
          "text": [
            "torch.Size([2, 2])\n"
          ]
        }
      ],
      "source": [
        "# 차원 늘리는 것\n",
        "x = torch.FloatTensor([[1, 2],\n",
        "                       [3, 4]])\n",
        "print(x.size())"
      ]
    },
    {
      "cell_type": "code",
      "execution_count": null,
      "metadata": {
        "id": "PE8z5n2QJWfM",
        "outputId": "709c32a8-73bf-4ada-c217-7645ab1cf422"
      },
      "outputs": [
        {
          "name": "stdout",
          "output_type": "stream",
          "text": [
            "tensor([[[1.],\n",
            "         [2.]],\n",
            "\n",
            "        [[3.],\n",
            "         [4.]]])\n",
            "tensor([[[1.],\n",
            "         [2.]],\n",
            "\n",
            "        [[3.],\n",
            "         [4.]]])\n",
            "tensor([[[1.],\n",
            "         [2.]],\n",
            "\n",
            "        [[3.],\n",
            "         [4.]]])\n"
          ]
        }
      ],
      "source": [
        "# 이 셋다 똑같은 코드\n",
        "print(x.unsqueeze(2))\n",
        "print(x.unsqueeze(-1))\n",
        "print(x.reshape(2, 2, -1))"
      ]
    }
  ],
  "metadata": {
    "kernelspec": {
      "display_name": "Python 3",
      "language": "python",
      "name": "python3"
    },
    "language_info": {
      "codemirror_mode": {
        "name": "ipython",
        "version": 3
      },
      "file_extension": ".py",
      "mimetype": "text/x-python",
      "name": "python",
      "nbconvert_exporter": "python",
      "pygments_lexer": "ipython3",
      "version": "3.7.6"
    },
    "colab": {
      "provenance": [],
      "include_colab_link": true
    }
  },
  "nbformat": 4,
  "nbformat_minor": 0
}