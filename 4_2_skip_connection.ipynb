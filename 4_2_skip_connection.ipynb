{
  "cells": [
    {
      "cell_type": "markdown",
      "metadata": {
        "id": "view-in-github",
        "colab_type": "text"
      },
      "source": [
        "<a href=\"https://colab.research.google.com/github/YonggunJung/Fastcompus/blob/main/4_2_skip_connection.ipynb\" target=\"_parent\"><img src=\"https://colab.research.google.com/assets/colab-badge.svg\" alt=\"Open In Colab\"/></a>"
      ]
    },
    {
      "cell_type": "markdown",
      "id": "3aecd1c9",
      "metadata": {
        "id": "3aecd1c9"
      },
      "source": [
        "https://pytorch.org/vision/0.8/_modules/torchvision/models/resnet.html\n",
        "\n",
        "\n",
        "Basic Block vs. Bottleneck Block\n"
      ]
    },
    {
      "cell_type": "markdown",
      "id": "ccfa5964",
      "metadata": {
        "id": "ccfa5964"
      },
      "source": [
        "![](./data/4_resnet_basicblock_bottleneck.png)"
      ]
    },
    {
      "cell_type": "code",
      "execution_count": null,
      "id": "d7fd6371",
      "metadata": {
        "id": "d7fd6371"
      },
      "outputs": [],
      "source": [
        "# 안에 들어가서 봐야함"
      ]
    }
  ],
  "metadata": {
    "kernelspec": {
      "display_name": "isp2",
      "language": "python",
      "name": "isp2"
    },
    "language_info": {
      "codemirror_mode": {
        "name": "ipython",
        "version": 3
      },
      "file_extension": ".py",
      "mimetype": "text/x-python",
      "name": "python",
      "nbconvert_exporter": "python",
      "pygments_lexer": "ipython3",
      "version": "3.9.7"
    },
    "colab": {
      "provenance": [],
      "include_colab_link": true
    }
  },
  "nbformat": 4,
  "nbformat_minor": 5
}