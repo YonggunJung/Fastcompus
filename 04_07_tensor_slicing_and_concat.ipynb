{
  "cells": [
    {
      "cell_type": "markdown",
      "metadata": {
        "id": "view-in-github",
        "colab_type": "text"
      },
      "source": [
        "<a href=\"https://colab.research.google.com/github/YonggunJung/Fastcompus/blob/main/04_07_tensor_slicing_and_concat.ipynb\" target=\"_parent\"><img src=\"https://colab.research.google.com/assets/colab-badge.svg\" alt=\"Open In Colab\"/></a>"
      ]
    },
    {
      "cell_type": "markdown",
      "metadata": {
        "id": "7nm4ZkLDLs8E"
      },
      "source": [
        "## PyTorch Tensor Slicing and Concatenation"
      ]
    },
    {
      "cell_type": "code",
      "execution_count": null,
      "metadata": {
        "id": "qyClniWLLs8H"
      },
      "outputs": [],
      "source": [
        "import torch"
      ]
    },
    {
      "cell_type": "markdown",
      "metadata": {
        "id": "WTG4aKZFLs8I"
      },
      "source": [
        "## Slicing and Concatenation"
      ]
    },
    {
      "cell_type": "markdown",
      "metadata": {
        "id": "vWH_XSHtLs8J"
      },
      "source": [
        "### Indexing and Slicing\n",
        "\n",
        "Prepare target tensor."
      ]
    },
    {
      "cell_type": "code",
      "execution_count": null,
      "metadata": {
        "id": "QWhfrDdcLs8J",
        "outputId": "5fa2aacb-5d50-4c16-b056-3dddfe2bf64f"
      },
      "outputs": [
        {
          "name": "stdout",
          "output_type": "stream",
          "text": [
            "torch.Size([3, 2, 2])\n"
          ]
        }
      ],
      "source": [
        "x = torch.FloatTensor([[[1, 2],\n",
        "                        [3, 4]],\n",
        "                       [[5, 6],\n",
        "                        [7, 8]],\n",
        "                       [[9, 10],\n",
        "                        [11, 12]]])\n",
        "print(x.size())"
      ]
    },
    {
      "cell_type": "markdown",
      "metadata": {
        "id": "ww5zXbj6Ls8K"
      },
      "source": [
        "Access to certain dimension."
      ]
    },
    {
      "cell_type": "code",
      "execution_count": null,
      "metadata": {
        "id": "Abbd7ZoHLs8K",
        "outputId": "4609b08f-ec45-45ef-cc98-252aae171868"
      },
      "outputs": [
        {
          "name": "stdout",
          "output_type": "stream",
          "text": [
            "tensor([[1., 2.],\n",
            "        [3., 4.]])\n",
            "tensor([[1., 2.],\n",
            "        [3., 4.]])\n",
            "tensor([[1., 2.],\n",
            "        [3., 4.]])\n"
          ]
        }
      ],
      "source": [
        "print(x[0])\n",
        "print(x[0, :])\n",
        "print(x[0, :, :])"
      ]
    },
    {
      "cell_type": "code",
      "execution_count": null,
      "metadata": {
        "id": "qBPhSTmnLs8L",
        "outputId": "6e230cd7-1076-48ae-c31e-6d75cc8e319a"
      },
      "outputs": [
        {
          "name": "stdout",
          "output_type": "stream",
          "text": [
            "tensor([[ 9., 10.],\n",
            "        [11., 12.]])\n",
            "tensor([[ 9., 10.],\n",
            "        [11., 12.]])\n",
            "tensor([[ 9., 10.],\n",
            "        [11., 12.]])\n"
          ]
        }
      ],
      "source": [
        "print(x[-1])\n",
        "print(x[-1, :])\n",
        "print(x[-1, :, :])"
      ]
    },
    {
      "cell_type": "code",
      "execution_count": null,
      "metadata": {
        "id": "WqWerEXsLs8L",
        "outputId": "41827f74-09c3-46a0-8823-279a6003e9fd"
      },
      "outputs": [
        {
          "name": "stdout",
          "output_type": "stream",
          "text": [
            "tensor([[ 1.,  2.],\n",
            "        [ 5.,  6.],\n",
            "        [ 9., 10.]])\n"
          ]
        }
      ],
      "source": [
        "print(x[:, 0, :])"
      ]
    },
    {
      "cell_type": "markdown",
      "metadata": {
        "id": "P9sV_2-cLs8L"
      },
      "source": [
        "Access by range. Note that the number of dimensions would not be changed."
      ]
    },
    {
      "cell_type": "code",
      "execution_count": null,
      "metadata": {
        "scrolled": true,
        "id": "U6Im5jDmLs8L",
        "outputId": "09bd8cdc-bb80-4774-ae52-6de4be070457"
      },
      "outputs": [
        {
          "name": "stdout",
          "output_type": "stream",
          "text": [
            "torch.Size([2, 2, 2])\n",
            "torch.Size([3, 1, 2])\n",
            "torch.Size([3, 1, 2])\n"
          ]
        }
      ],
      "source": [
        "print(x[1:3, :, :].size())\n",
        "print(x[:, :1, :].size())\n",
        "print(x[:, :-1, :].size())"
      ]
    },
    {
      "cell_type": "markdown",
      "metadata": {
        "id": "phqVZ3F4Ls8M"
      },
      "source": [
        "### split: Split tensor to desirable shapes."
      ]
    },
    {
      "cell_type": "code",
      "execution_count": null,
      "metadata": {
        "id": "2fawgviwLs8M"
      },
      "outputs": [],
      "source": [
        "x = torch.FloatTensor(10, 4)"
      ]
    },
    {
      "cell_type": "code",
      "execution_count": null,
      "metadata": {
        "id": "brRcYGL8Ls8M",
        "outputId": "19198d87-869c-4d3a-db23-20aab7ad20bd"
      },
      "outputs": [
        {
          "name": "stdout",
          "output_type": "stream",
          "text": [
            "torch.Size([4, 4])\n",
            "torch.Size([4, 4])\n",
            "torch.Size([2, 4])\n"
          ]
        }
      ],
      "source": [
        "# 4행씩 나누기\n",
        "# 그래서 4 4 2\n",
        "splits = x.split(4, dim=0)\n",
        "\n",
        "for s in splits:\n",
        "    print(s.size())\n",
        "# 4 + 4 + 2 = 10 이런식으로"
      ]
    },
    {
      "cell_type": "markdown",
      "metadata": {
        "id": "X39sPMXSLs8M"
      },
      "source": [
        "### chunk: Split tensor to number of chunks."
      ]
    },
    {
      "cell_type": "code",
      "execution_count": null,
      "metadata": {
        "id": "GbjXhIxNLs8N"
      },
      "outputs": [],
      "source": [
        "x = torch.FloatTensor(8, 4)"
      ]
    },
    {
      "cell_type": "code",
      "execution_count": null,
      "metadata": {
        "id": "lutOiyP-Ls8N",
        "outputId": "dcb18201-f3c2-4392-fb5d-56a34b4c83b7"
      },
      "outputs": [
        {
          "name": "stdout",
          "output_type": "stream",
          "text": [
            "torch.Size([3, 4])\n",
            "torch.Size([3, 4])\n",
            "torch.Size([2, 4])\n"
          ]
        }
      ],
      "source": [
        "# 8 나누기 3 + 나머지 방식\n",
        "chunks = x.chunk(3, dim=0)\n",
        "\n",
        "for c in chunks:\n",
        "    print(c.size())"
      ]
    },
    {
      "cell_type": "markdown",
      "metadata": {
        "id": "93ecAMovLs8N"
      },
      "source": [
        "### index_select: Select elements by using dimension index."
      ]
    },
    {
      "cell_type": "code",
      "execution_count": null,
      "metadata": {
        "id": "oVPnL3spLs8O",
        "outputId": "39513243-ee8e-483b-f6a2-dead2b64171a"
      },
      "outputs": [
        {
          "name": "stdout",
          "output_type": "stream",
          "text": [
            "torch.Size([3, 2, 2])\n"
          ]
        }
      ],
      "source": [
        "# 이름이 뭔가 원하는 거만 가져올 느낌\n",
        "x = torch.FloatTensor([[[1, 1],\n",
        "                        [2, 2]],\n",
        "                       [[3, 3],\n",
        "                        [4, 4]],\n",
        "                       [[5, 5],\n",
        "                        [6, 6]]])\n",
        "indice = torch.LongTensor([2, 1])\n",
        "\n",
        "print(x.size())"
      ]
    },
    {
      "cell_type": "code",
      "execution_count": null,
      "metadata": {
        "id": "0ujI8O2GLs8O",
        "outputId": "1e02aa11-c10c-4bba-8463-8461ccf0c1dd"
      },
      "outputs": [
        {
          "name": "stdout",
          "output_type": "stream",
          "text": [
            "tensor([[[5., 5.],\n",
            "         [6., 6.]],\n",
            "\n",
            "        [[3., 3.],\n",
            "         [4., 4.]]])\n",
            "torch.Size([2, 2, 2])\n"
          ]
        }
      ],
      "source": [
        "#\n",
        "y = x.index_select(dim=0, index=indice)\n",
        "\n",
        "print(y)\n",
        "print(y.size())"
      ]
    },
    {
      "cell_type": "markdown",
      "metadata": {
        "id": "z81CMrUoLs8O"
      },
      "source": [
        "### cat: Concatenation of multiple tensors in the list."
      ]
    },
    {
      "cell_type": "code",
      "execution_count": null,
      "metadata": {
        "id": "HWmjDBeFLs8O",
        "outputId": "01ff118c-2f40-48a5-d6e4-ef6d21443983"
      },
      "outputs": [
        {
          "name": "stdout",
          "output_type": "stream",
          "text": [
            "torch.Size([3, 3]) torch.Size([3, 3])\n"
          ]
        }
      ],
      "source": [
        "x = torch.FloatTensor([[1, 2, 3],\n",
        "                       [4, 5, 6],\n",
        "                       [7, 8, 9]])\n",
        "y = torch.FloatTensor([[10, 11, 12],\n",
        "                       [13, 14, 15],\n",
        "                       [16, 17, 18]])\n",
        "\n",
        "print(x.size(), y.size())"
      ]
    },
    {
      "cell_type": "code",
      "execution_count": null,
      "metadata": {
        "id": "dOlO7RhNLs8P",
        "outputId": "126c4f39-7c17-4af1-e4c3-805efa0bfd2c"
      },
      "outputs": [
        {
          "name": "stdout",
          "output_type": "stream",
          "text": [
            "tensor([[ 1.,  2.,  3.],\n",
            "        [ 4.,  5.,  6.],\n",
            "        [ 7.,  8.,  9.],\n",
            "        [10., 11., 12.],\n",
            "        [13., 14., 15.],\n",
            "        [16., 17., 18.]])\n",
            "torch.Size([6, 3])\n"
          ]
        }
      ],
      "source": [
        "z = torch.cat([x, y], dim=0)\n",
        "print(z)\n",
        "print(z.size())"
      ]
    },
    {
      "cell_type": "code",
      "execution_count": null,
      "metadata": {
        "id": "ehvVxgc5Ls8P",
        "outputId": "50900d40-62c6-4b57-db91-0a896363a48b"
      },
      "outputs": [
        {
          "name": "stdout",
          "output_type": "stream",
          "text": [
            "tensor([[ 1.,  2.,  3., 10., 11., 12.],\n",
            "        [ 4.,  5.,  6., 13., 14., 15.],\n",
            "        [ 7.,  8.,  9., 16., 17., 18.]])\n",
            "torch.Size([3, 6])\n"
          ]
        }
      ],
      "source": [
        "z = torch.cat([x, y], dim=-1)\n",
        "print(z)\n",
        "print(z.size())"
      ]
    },
    {
      "cell_type": "markdown",
      "metadata": {
        "id": "VLvxxIyILs8P"
      },
      "source": [
        "### stack: Stacking of multiple tensors in the list."
      ]
    },
    {
      "cell_type": "code",
      "execution_count": null,
      "metadata": {
        "id": "Dsztm3iQLs8P",
        "outputId": "f84b2d43-eab1-45bb-eab9-5f8eeb40df4f"
      },
      "outputs": [
        {
          "name": "stdout",
          "output_type": "stream",
          "text": [
            "tensor([[[ 1.,  2.,  3.],\n",
            "         [ 4.,  5.,  6.],\n",
            "         [ 7.,  8.,  9.]],\n",
            "\n",
            "        [[10., 11., 12.],\n",
            "         [13., 14., 15.],\n",
            "         [16., 17., 18.]]])\n",
            "torch.Size([2, 3, 3])\n"
          ]
        }
      ],
      "source": [
        "z = torch.stack([x, y])\n",
        "print(z)\n",
        "print(z.size())"
      ]
    },
    {
      "cell_type": "markdown",
      "metadata": {
        "id": "aghUChLbLs8P"
      },
      "source": [
        "Or you can specify the dimension. Default is 0."
      ]
    },
    {
      "cell_type": "code",
      "execution_count": null,
      "metadata": {
        "id": "0S232Uo7Ls8P",
        "outputId": "e7fde074-f4b6-45a9-cfab-591df1d3294d"
      },
      "outputs": [
        {
          "name": "stdout",
          "output_type": "stream",
          "text": [
            "tensor([[[ 1., 10.],\n",
            "         [ 2., 11.],\n",
            "         [ 3., 12.]],\n",
            "\n",
            "        [[ 4., 13.],\n",
            "         [ 5., 14.],\n",
            "         [ 6., 15.]],\n",
            "\n",
            "        [[ 7., 16.],\n",
            "         [ 8., 17.],\n",
            "         [ 9., 18.]]])\n",
            "torch.Size([3, 3, 2])\n"
          ]
        }
      ],
      "source": [
        "z = torch.stack([x, y], dim=-1)\n",
        "print(z)\n",
        "print(z.size())"
      ]
    },
    {
      "cell_type": "markdown",
      "metadata": {
        "id": "ifBaFTYyLs8Q"
      },
      "source": [
        "### Implement 'stack' function by using 'cat'."
      ]
    },
    {
      "cell_type": "code",
      "execution_count": null,
      "metadata": {
        "id": "sv_VX-jCLs8Q",
        "outputId": "2e853bf5-965b-4372-9771-334bb61d98e9"
      },
      "outputs": [
        {
          "name": "stdout",
          "output_type": "stream",
          "text": [
            "tensor([[[ 1.,  2.,  3.],\n",
            "         [ 4.,  5.,  6.],\n",
            "         [ 7.,  8.,  9.]],\n",
            "\n",
            "        [[10., 11., 12.],\n",
            "         [13., 14., 15.],\n",
            "         [16., 17., 18.]]])\n",
            "torch.Size([2, 3, 3])\n"
          ]
        }
      ],
      "source": [
        "# z = torch.stack([x, y])\n",
        "z = torch.cat([x.unsqueeze(0), y.unsqueeze(0)], dim=0)\n",
        "print(z)\n",
        "print(z.size())"
      ]
    },
    {
      "cell_type": "markdown",
      "metadata": {
        "id": "opU9lymiLs8Q"
      },
      "source": [
        "### Useful Trick: Merge results from iterations"
      ]
    },
    {
      "cell_type": "code",
      "execution_count": null,
      "metadata": {
        "id": "Q0g7TQcALs8Q",
        "outputId": "9d79529e-8210-46bf-d9ad-e88c6fe4c70d"
      },
      "outputs": [
        {
          "data": {
            "text/plain": [
              "torch.Size([5, 2, 2])"
            ]
          },
          "execution_count": 19,
          "metadata": {},
          "output_type": "execute_result"
        }
      ],
      "source": [
        "result = []\n",
        "for i in range(5):\n",
        "    x = torch.FloatTensor(2, 2)\n",
        "    result += [x]\n",
        "\n",
        "result = torch.stack(result)\n",
        "result.size()"
      ]
    },
    {
      "cell_type": "code",
      "execution_count": null,
      "metadata": {
        "id": "SCrEfAzHLs8Q"
      },
      "outputs": [],
      "source": []
    }
  ],
  "metadata": {
    "kernelspec": {
      "display_name": "Python 3",
      "language": "python",
      "name": "python3"
    },
    "language_info": {
      "codemirror_mode": {
        "name": "ipython",
        "version": 3
      },
      "file_extension": ".py",
      "mimetype": "text/x-python",
      "name": "python",
      "nbconvert_exporter": "python",
      "pygments_lexer": "ipython3",
      "version": "3.7.6"
    },
    "colab": {
      "provenance": [],
      "include_colab_link": true
    }
  },
  "nbformat": 4,
  "nbformat_minor": 0
}